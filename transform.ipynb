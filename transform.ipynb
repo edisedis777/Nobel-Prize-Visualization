{
 "cells": [
  {
   "cell_type": "code",
   "execution_count": null,
   "metadata": {},
   "outputs": [],
   "source": []
  },
  {
   "cell_type": "code",
   "execution_count": 2,
   "metadata": {},
   "outputs": [],
   "source": [
    "import json\n",
    "\n",
    "# Load your original JSON (replace with your file path)\n",
    "with open('nobel-prize-winners.json', 'r') as f:\n",
    "    original_data = json.load(f)\n",
    "\n",
    "# Initialize the new structure\n",
    "transformed_data = {\n",
    "    \"name\": \"Nobel Prizes\",\n",
    "    \"children\": []\n",
    "}\n",
    "\n",
    "# Categories to group by\n",
    "categories = {}\n",
    "\n",
    "# Process each year\n",
    "for year_data in original_data:\n",
    "    year = year_data[\"year\"]\n",
    "    for category_data in year_data[\"winners\"]:\n",
    "        cat_name = category_data[\"category\"].capitalize()\n",
    "        if cat_name not in categories:\n",
    "            categories[cat_name] = {\"name\": cat_name, \"children\": []}\n",
    "        # Find or create the year node\n",
    "        year_node = next((y for y in categories[cat_name][\"children\"] if y[\"name\"] == year), None)\n",
    "        if not year_node:\n",
    "            year_node = {\"name\": year, \"children\": []}\n",
    "            categories[cat_name][\"children\"].append(year_node)\n",
    "        # Add winners\n",
    "        for winner in category_data[\"winners\"]:\n",
    "            year_node[\"children\"].append({\n",
    "                \"name\": winner[\"name\"],\n",
    "                \"country\": winner[\"country\"],\n",
    "                \"achievement\": winner[\"achievement\"]\n",
    "            })\n",
    "\n",
    "# Add categories to the root\n",
    "transformed_data[\"children\"] = list(categories.values())\n",
    "\n",
    "# Save the transformed JSON\n",
    "with open('nobel-prize-data.json', 'w') as f:\n",
    "    json.dump(transformed_data, f, indent=2)"
   ]
  },
  {
   "cell_type": "code",
   "execution_count": null,
   "metadata": {},
   "outputs": [],
   "source": []
  }
 ],
 "metadata": {
  "kernelspec": {
   "display_name": ".venv",
   "language": "python",
   "name": "python3"
  },
  "language_info": {
   "codemirror_mode": {
    "name": "ipython",
    "version": 3
   },
   "file_extension": ".py",
   "mimetype": "text/x-python",
   "name": "python",
   "nbconvert_exporter": "python",
   "pygments_lexer": "ipython3",
   "version": "3.13.2"
  }
 },
 "nbformat": 4,
 "nbformat_minor": 2
}
